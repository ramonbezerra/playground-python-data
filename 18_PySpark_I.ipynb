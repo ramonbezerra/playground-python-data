{
 "cells": [
  {
   "cell_type": "markdown",
   "metadata": {},
   "source": [
    "# PySpark I\n",
    "\n",
    "## Configurações Básicas"
   ]
  },
  {
   "cell_type": "code",
   "execution_count": 31,
   "metadata": {},
   "outputs": [],
   "source": [
    "from pyspark.sql import SparkSession\n",
    "import pyspark as ps"
   ]
  },
  {
   "cell_type": "code",
   "execution_count": 32,
   "metadata": {},
   "outputs": [
    {
     "data": {
      "text/plain": [
       "<pyspark.conf.SparkConf at 0x2932456a450>"
      ]
     },
     "execution_count": 32,
     "metadata": {},
     "output_type": "execute_result"
    }
   ],
   "source": [
    "spark = SparkSession.builder.appName(\"MyApp\").config(\"spark.some.config.option\", \"some-value\").getOrCreate()\n",
    "\n",
    "conf = ps.SparkConf().setMaster(\"local[*]\").setAppName(\"MyApp\") # simulação de clusters com threads do processador\n",
    "conf.set(\"spark.executor.heartbeatInterval\", \"3600s\")"
   ]
  },
  {
   "cell_type": "markdown",
   "metadata": {},
   "source": [
    "## Consultando a versão"
   ]
  },
  {
   "cell_type": "code",
   "execution_count": 33,
   "metadata": {},
   "outputs": [
    {
     "data": {
      "text/plain": [
       "'3.5.5'"
      ]
     },
     "execution_count": 33,
     "metadata": {},
     "output_type": "execute_result"
    }
   ],
   "source": [
    "spark.version"
   ]
  },
  {
   "cell_type": "markdown",
   "metadata": {},
   "source": [
    "## Carregando dados"
   ]
  },
  {
   "cell_type": "code",
   "execution_count": 34,
   "metadata": {},
   "outputs": [
    {
     "data": {
      "text/plain": [
       "DataFrame[symbol: string, name: string, exchange: string, assetType: string, ipoDate: string, delistingDate: string, status: string]"
      ]
     },
     "execution_count": 34,
     "metadata": {},
     "output_type": "execute_result"
    }
   ],
   "source": [
    "df_spark = spark.read.format(\"csv\").option(\"header\", \"true\").load(\"listing_status.csv\")\n",
    "df_spark"
   ]
  },
  {
   "cell_type": "code",
   "execution_count": 37,
   "metadata": {},
   "outputs": [
    {
     "name": "stdout",
     "output_type": "stream",
     "text": [
      "+-------+-------------------------------------------------------------------+---------+---------+----------+-------------+------+\n",
      "|symbol |name                                                               |exchange |assetType|ipoDate   |delistingDate|status|\n",
      "+-------+-------------------------------------------------------------------+---------+---------+----------+-------------+------+\n",
      "|A      |Agilent Technologies Inc                                           |NYSE     |Stock    |1999-11-18|null         |Active|\n",
      "|AA     |Alcoa Corp                                                         |NYSE     |Stock    |2016-10-18|null         |Active|\n",
      "|AAA    |ALTERNATIVE ACCESS FIRST PRIORITY CLO BOND ETF                     |NYSE ARCA|ETF      |2020-09-09|null         |Active|\n",
      "|AAAU   |Goldman Sachs Physical Gold ETF                                    |BATS     |ETF      |2018-08-15|null         |Active|\n",
      "|AACG   |ATA Creativity Global                                              |NASDAQ   |Stock    |2008-01-29|null         |Active|\n",
      "|AACT   |Ares Acquisition Corporation II - Class A                          |NYSE     |Stock    |2023-06-12|null         |Active|\n",
      "|AACT-U |Ares Acquisition Corporation II - Units (1 Ord Class A & 1/2 War)  |NYSE     |Stock    |2023-04-21|null         |Active|\n",
      "|AACT-WS|Ares Acquisition Corporation II - Warrants (01/01/9999)            |NYSE     |Stock    |2023-06-12|null         |Active|\n",
      "|AADI   |Aadi Bioscience Inc                                                |NASDAQ   |Stock    |2017-08-08|null         |Active|\n",
      "|AADR   |ADVISORSHARES DORSEY WRIGHT ADR ETF                                |NASDAQ   |ETF      |2010-07-21|null         |Active|\n",
      "|AAGR   |African Agriculture Holdings Inc                                   |NASDAQ   |Stock    |2023-12-07|null         |Active|\n",
      "|AAGRW  |African Agriculture Holdings Inc - Warrants (06/12/2028)           |NASDAQ   |Stock    |2023-12-07|null         |Active|\n",
      "|AAL    |American Airlines Group Inc                                        |NASDAQ   |Stock    |2005-09-27|null         |Active|\n",
      "|AAM-U  |AA Mission Acquisition Corp - Units (1 Ord Share Class A & 1/2 War)|NYSE     |Stock    |2024-08-01|null         |Active|\n",
      "|AAMC   |Altisource Asset Management Corp                                   |NYSE MKT |Stock    |2012-12-13|null         |Active|\n",
      "|AAME   |Atlantic American Corp                                             |NASDAQ   |Stock    |1984-09-07|null         |Active|\n",
      "|AAN    |Aarons Company Inc (The)                                           |NYSE     |Stock    |2020-11-25|null         |Active|\n",
      "|AAOI   |Applied Optoelectronics Inc                                        |NASDAQ   |Stock    |2013-09-26|null         |Active|\n",
      "|AAON   |AAON Inc                                                           |NASDAQ   |Stock    |1992-12-16|null         |Active|\n",
      "|AAP    |Advance Auto Parts Inc                                             |NYSE     |Stock    |2001-11-29|null         |Active|\n",
      "+-------+-------------------------------------------------------------------+---------+---------+----------+-------------+------+\n",
      "only showing top 20 rows\n",
      "\n"
     ]
    }
   ],
   "source": [
    "df_spark.show(20, truncate=False)"
   ]
  },
  {
   "cell_type": "code",
   "execution_count": null,
   "metadata": {},
   "outputs": [],
   "source": [
    "import pandas as pd\n",
    "\n",
    "df_pd = df_spark.toPandas()\n",
    "df_pd.head()"
   ]
  },
  {
   "cell_type": "code",
   "execution_count": null,
   "metadata": {},
   "outputs": [],
   "source": [
    "df_spark2 = spark.createDataFrame(df_pd)\n",
    "df_spark2.show(10, truncate=False)"
   ]
  },
  {
   "cell_type": "markdown",
   "metadata": {},
   "source": [
    "## Operações básicas"
   ]
  },
  {
   "cell_type": "code",
   "execution_count": 45,
   "metadata": {},
   "outputs": [
    {
     "name": "stdout",
     "output_type": "stream",
     "text": [
      "+-------+--------------------+---------+---------+----------+------+\n",
      "| symbol|                name| exchange|assetType|   ipoDate|status|\n",
      "+-------+--------------------+---------+---------+----------+------+\n",
      "|      A|Agilent Technolog...|     NYSE|    Stock|1999-11-18|Active|\n",
      "|     AA|          Alcoa Corp|     NYSE|    Stock|2016-10-18|Active|\n",
      "|    AAA|ALTERNATIVE ACCES...|NYSE ARCA|      ETF|2020-09-09|Active|\n",
      "|   AAAU|Goldman Sachs Phy...|     BATS|      ETF|2018-08-15|Active|\n",
      "|   AACG|ATA Creativity Gl...|   NASDAQ|    Stock|2008-01-29|Active|\n",
      "|   AACT|Ares Acquisition ...|     NYSE|    Stock|2023-06-12|Active|\n",
      "| AACT-U|Ares Acquisition ...|     NYSE|    Stock|2023-04-21|Active|\n",
      "|AACT-WS|Ares Acquisition ...|     NYSE|    Stock|2023-06-12|Active|\n",
      "|   AADI| Aadi Bioscience Inc|   NASDAQ|    Stock|2017-08-08|Active|\n",
      "|   AADR|ADVISORSHARES DOR...|   NASDAQ|      ETF|2010-07-21|Active|\n",
      "+-------+--------------------+---------+---------+----------+------+\n",
      "only showing top 10 rows\n",
      "\n"
     ]
    }
   ],
   "source": [
    "df_spark_mod = df_spark.drop('delistingDate')\n",
    "df_spark_mod.show(10)"
   ]
  },
  {
   "cell_type": "code",
   "execution_count": 46,
   "metadata": {},
   "outputs": [
    {
     "name": "stdout",
     "output_type": "stream",
     "text": [
      "+-------+---------+---------+----------+\n",
      "| symbol| exchange|assetType|   ipoDate|\n",
      "+-------+---------+---------+----------+\n",
      "|      A|     NYSE|    Stock|1999-11-18|\n",
      "|     AA|     NYSE|    Stock|2016-10-18|\n",
      "|    AAA|NYSE ARCA|      ETF|2020-09-09|\n",
      "|   AAAU|     BATS|      ETF|2018-08-15|\n",
      "|   AACG|   NASDAQ|    Stock|2008-01-29|\n",
      "|   AACT|     NYSE|    Stock|2023-06-12|\n",
      "| AACT-U|     NYSE|    Stock|2023-04-21|\n",
      "|AACT-WS|     NYSE|    Stock|2023-06-12|\n",
      "|   AADI|   NASDAQ|    Stock|2017-08-08|\n",
      "|   AADR|   NASDAQ|      ETF|2010-07-21|\n",
      "+-------+---------+---------+----------+\n",
      "only showing top 10 rows\n",
      "\n"
     ]
    }
   ],
   "source": [
    "df_spark_mod = df_spark_mod.select('symbol', 'exchange', 'assetType', 'ipoDate')\n",
    "df_spark_mod.show(10)"
   ]
  },
  {
   "cell_type": "code",
   "execution_count": 47,
   "metadata": {},
   "outputs": [
    {
     "name": "stdout",
     "output_type": "stream",
     "text": [
      "+-------+---------+---------+----------+\n",
      "| symbol| exchange|assetType|   ipoDate|\n",
      "+-------+---------+---------+----------+\n",
      "|      A|     NYSE|    Stock|1999-11-18|\n",
      "|     AA|     NYSE|    Stock|2016-10-18|\n",
      "|    AAA|NYSE ARCA|      ETF|2020-09-09|\n",
      "|   AAAU|     BATS|      ETF|2018-08-15|\n",
      "|   AACG|   NASDAQ|    Stock|2008-01-29|\n",
      "|   AACT|     NYSE|    Stock|2023-06-12|\n",
      "| AACT-U|     NYSE|    Stock|2023-04-21|\n",
      "|AACT-WS|     NYSE|    Stock|2023-06-12|\n",
      "|   AADI|   NASDAQ|    Stock|2017-08-08|\n",
      "|   AADR|   NASDAQ|      ETF|2010-07-21|\n",
      "+-------+---------+---------+----------+\n",
      "only showing top 10 rows\n",
      "\n"
     ]
    }
   ],
   "source": [
    "from pyspark.sql.functions import col\n",
    "\n",
    "df_spark_mod = df_spark_mod.withColumn('ipoDate', col('ipoDate').cast('date'))\n",
    "df_spark_mod.show(10)"
   ]
  },
  {
   "cell_type": "code",
   "execution_count": 60,
   "metadata": {},
   "outputs": [
    {
     "name": "stdout",
     "output_type": "stream",
     "text": [
      "+-------+---------+---------+----------+---------+--------+\n",
      "| symbol| exchange|assetType|   ipoDate|time_diff|maturity|\n",
      "+-------+---------+---------+----------+---------+--------+\n",
      "|      A|     NYSE|    Stock|1999-11-18|     9268|    long|\n",
      "|     AA|     NYSE|    Stock|2016-10-18|     3089|   short|\n",
      "|    AAA|NYSE ARCA|      ETF|2020-09-09|     1667|   short|\n",
      "|   AAAU|     BATS|      ETF|2018-08-15|     2423|   short|\n",
      "|   AACG|   NASDAQ|    Stock|2008-01-29|     6274|   short|\n",
      "|   AACT|     NYSE|    Stock|2023-06-12|      661|   short|\n",
      "| AACT-U|     NYSE|    Stock|2023-04-21|      713|   short|\n",
      "|AACT-WS|     NYSE|    Stock|2023-06-12|      661|   short|\n",
      "|   AADI|   NASDAQ|    Stock|2017-08-08|     2795|   short|\n",
      "|   AADR|   NASDAQ|      ETF|2010-07-21|     5370|   short|\n",
      "+-------+---------+---------+----------+---------+--------+\n",
      "only showing top 10 rows\n",
      "\n"
     ]
    }
   ],
   "source": [
    "df_spark_mod = df_spark_mod.drop('currentDate')\n",
    "df_spark_mod.show(10)"
   ]
  },
  {
   "cell_type": "code",
   "execution_count": 61,
   "metadata": {},
   "outputs": [
    {
     "name": "stdout",
     "output_type": "stream",
     "text": [
      "+-------+---------+---------+----------+---------+--------+\n",
      "| symbol| exchange|assetType|   ipoDate|time_diff|maturity|\n",
      "+-------+---------+---------+----------+---------+--------+\n",
      "|      A|     NYSE|    Stock|1999-11-18|     9268|    long|\n",
      "|     AA|     NYSE|    Stock|2016-10-18|     3089|   short|\n",
      "|    AAA|NYSE ARCA|      ETF|2020-09-09|     1667|   short|\n",
      "|   AAAU|     BATS|      ETF|2018-08-15|     2423|   short|\n",
      "|   AACG|   NASDAQ|    Stock|2008-01-29|     6274|   short|\n",
      "|   AACT|     NYSE|    Stock|2023-06-12|      661|   short|\n",
      "| AACT-U|     NYSE|    Stock|2023-04-21|      713|   short|\n",
      "|AACT-WS|     NYSE|    Stock|2023-06-12|      661|   short|\n",
      "|   AADI|   NASDAQ|    Stock|2017-08-08|     2795|   short|\n",
      "|   AADR|   NASDAQ|      ETF|2010-07-21|     5370|   short|\n",
      "+-------+---------+---------+----------+---------+--------+\n",
      "only showing top 10 rows\n",
      "\n"
     ]
    }
   ],
   "source": [
    "from pyspark.sql.functions import date_diff, current_date\n",
    "\n",
    "df_spark_mod = df_spark_mod.withColumn('time_diff', date_diff(current_date(), col('ipoDate')))\n",
    "df_spark_mod.show(10)"
   ]
  },
  {
   "cell_type": "code",
   "execution_count": 62,
   "metadata": {},
   "outputs": [
    {
     "name": "stdout",
     "output_type": "stream",
     "text": [
      "+-------+---------+---------+----------+---------+--------+\n",
      "| symbol| exchange|assetType|   ipoDate|time_diff|maturity|\n",
      "+-------+---------+---------+----------+---------+--------+\n",
      "|      A|     NYSE|    Stock|1999-11-18|25.374401|    long|\n",
      "|     AA|     NYSE|    Stock|2016-10-18| 8.457221|   short|\n",
      "|    AAA|NYSE ARCA|      ETF|2020-09-09| 4.563997|   short|\n",
      "|   AAAU|     BATS|      ETF|2018-08-15| 6.633812|   short|\n",
      "|   AACG|   NASDAQ|    Stock|2008-01-29|17.177276|   short|\n",
      "|   AACT|     NYSE|    Stock|2023-06-12| 1.809719|   short|\n",
      "| AACT-U|     NYSE|    Stock|2023-04-21| 1.952088|   short|\n",
      "|AACT-WS|     NYSE|    Stock|2023-06-12| 1.809719|   short|\n",
      "|   AADI|   NASDAQ|    Stock|2017-08-08| 7.652293|   short|\n",
      "|   AADR|   NASDAQ|      ETF|2010-07-21|14.702259|   short|\n",
      "+-------+---------+---------+----------+---------+--------+\n",
      "only showing top 10 rows\n",
      "\n"
     ]
    }
   ],
   "source": [
    "from pyspark.sql.functions import expr\n",
    "\n",
    "df_spark_mod = df_spark_mod.withColumn('time_diff', expr(\"datediff(current_date(), ipoDate) / 365.25\"))\n",
    "df_spark_mod.show(10)"
   ]
  },
  {
   "cell_type": "code",
   "execution_count": null,
   "metadata": {},
   "outputs": [
    {
     "name": "stdout",
     "output_type": "stream",
     "text": [
      "+-------+---------+---------+----------+--------+\n",
      "| symbol| exchange|assetType|   ipoDate|maturity|\n",
      "+-------+---------+---------+----------+--------+\n",
      "|      A|     NYSE|    Stock|1999-11-18|    long|\n",
      "|     AA|     NYSE|    Stock|2016-10-18|   short|\n",
      "|    AAA|NYSE ARCA|      ETF|2020-09-09|   short|\n",
      "|   AAAU|     BATS|      ETF|2018-08-15|   short|\n",
      "|   AACG|   NASDAQ|    Stock|2008-01-29|   short|\n",
      "|   AACT|     NYSE|    Stock|2023-06-12|   short|\n",
      "| AACT-U|     NYSE|    Stock|2023-04-21|   short|\n",
      "|AACT-WS|     NYSE|    Stock|2023-06-12|   short|\n",
      "|   AADI|   NASDAQ|    Stock|2017-08-08|   short|\n",
      "|   AADR|   NASDAQ|      ETF|2010-07-21|   short|\n",
      "|   AAGR|   NASDAQ|    Stock|2023-12-07|   short|\n",
      "|  AAGRW|   NASDAQ|    Stock|2023-12-07|   short|\n",
      "|    AAL|   NASDAQ|    Stock|2005-09-27|   short|\n",
      "|  AAM-U|     NYSE|    Stock|2024-08-01|   short|\n",
      "|   AAMC| NYSE MKT|    Stock|2012-12-13|   short|\n",
      "|   AAME|   NASDAQ|    Stock|1984-09-07|    long|\n",
      "|    AAN|     NYSE|    Stock|2020-11-25|   short|\n",
      "|   AAOI|   NASDAQ|    Stock|2013-09-26|   short|\n",
      "|   AAON|   NASDAQ|    Stock|1992-12-16|    long|\n",
      "|    AAP|     NYSE|    Stock|2001-11-29|   short|\n",
      "|   AAPB|   NASDAQ|      ETF|2022-08-09|   short|\n",
      "|   AAPD|   NASDAQ|      ETF|2022-08-09|   short|\n",
      "|   AAPL|   NASDAQ|    Stock|1980-12-12|    long|\n",
      "|   AAPR|     BATS|      ETF|2024-04-01|   short|\n",
      "|   AAPU|   NASDAQ|      ETF|2022-08-09|   short|\n",
      "+-------+---------+---------+----------+--------+\n",
      "only showing top 25 rows\n",
      "\n"
     ]
    }
   ],
   "source": [
    "from pyspark.sql.functions import when, lit\n",
    "\n",
    "df_spark_mod = df_spark_mod.withColumn('maturity', when(df_spark_mod.time_diff > 25, lit('long')).otherwise(lit('short'))).drop('time_diff')\n",
    "df_spark_mod.show(25)"
   ]
  },
  {
   "cell_type": "code",
   "execution_count": 64,
   "metadata": {},
   "outputs": [
    {
     "name": "stdout",
     "output_type": "stream",
     "text": [
      "+-------+--------+---------+----------+--------+\n",
      "| symbol|exchange|assetType|   ipoDate|maturity|\n",
      "+-------+--------+---------+----------+--------+\n",
      "|      A|    NYSE|    Stock|1999-11-18|    long|\n",
      "|     AA|    NYSE|    Stock|2016-10-18|   short|\n",
      "|   AACG|  NASDAQ|    Stock|2008-01-29|   short|\n",
      "|   AACT|    NYSE|    Stock|2023-06-12|   short|\n",
      "| AACT-U|    NYSE|    Stock|2023-04-21|   short|\n",
      "|AACT-WS|    NYSE|    Stock|2023-06-12|   short|\n",
      "|   AADI|  NASDAQ|    Stock|2017-08-08|   short|\n",
      "|   AAGR|  NASDAQ|    Stock|2023-12-07|   short|\n",
      "|  AAGRW|  NASDAQ|    Stock|2023-12-07|   short|\n",
      "|    AAL|  NASDAQ|    Stock|2005-09-27|   short|\n",
      "+-------+--------+---------+----------+--------+\n",
      "only showing top 10 rows\n",
      "\n"
     ]
    }
   ],
   "source": [
    "df_stocks = df_spark_mod.filter(df_spark_mod.assetType == 'Stock')\n",
    "df_stocks.show(10)"
   ]
  },
  {
   "cell_type": "code",
   "execution_count": 65,
   "metadata": {},
   "outputs": [
    {
     "name": "stdout",
     "output_type": "stream",
     "text": [
      "7509\n"
     ]
    }
   ],
   "source": [
    "print(df_stocks.count())"
   ]
  },
  {
   "cell_type": "code",
   "execution_count": 66,
   "metadata": {},
   "outputs": [
    {
     "data": {
      "text/plain": [
       "4119"
      ]
     },
     "execution_count": 66,
     "metadata": {},
     "output_type": "execute_result"
    }
   ],
   "source": [
    "df_spark.filter(df_spark.assetType == 'ETF').count()"
   ]
  },
  {
   "cell_type": "markdown",
   "metadata": {},
   "source": [
    "## Exercícios"
   ]
  },
  {
   "cell_type": "code",
   "execution_count": 67,
   "metadata": {},
   "outputs": [
    {
     "name": "stdout",
     "output_type": "stream",
     "text": [
      "+-----------+--------+--------+---+----+--------+---------+----------+-----------+--------+----------+--------------+\n",
      "|brokered_by|  status|   price|bed|bath|acre_lot|   street|      city|      state|zip_code|house_size|prev_sold_date|\n",
      "+-----------+--------+--------+---+----+--------+---------+----------+-----------+--------+----------+--------------+\n",
      "|   103378.0|for_sale|105000.0|  3|   2|    0.12|1962661.0|  Adjuntas|Puerto Rico|   00601|     920.0|          NULL|\n",
      "|    52707.0|for_sale| 80000.0|  4|   2|    0.08|1902874.0|  Adjuntas|Puerto Rico|   00601|    1527.0|          NULL|\n",
      "|   103379.0|for_sale| 67000.0|  2|   1|    0.15|1404990.0|Juana Diaz|Puerto Rico|   00795|     748.0|          NULL|\n",
      "+-----------+--------+--------+---+----+--------+---------+----------+-----------+--------+----------+--------------+\n",
      "only showing top 3 rows\n",
      "\n"
     ]
    }
   ],
   "source": [
    "df_spark = (spark.read.format(\"csv\")\n",
    "      .option(\"header\",\"true\")\n",
    "      .load(\"realtor-data.csv\"))\n",
    "df_spark.show(3)"
   ]
  },
  {
   "cell_type": "code",
   "execution_count": 68,
   "metadata": {},
   "outputs": [
    {
     "data": {
      "text/plain": [
       "2226382"
      ]
     },
     "execution_count": 68,
     "metadata": {},
     "output_type": "execute_result"
    }
   ],
   "source": [
    "df_spark.count()"
   ]
  },
  {
   "cell_type": "code",
   "execution_count": 69,
   "metadata": {},
   "outputs": [
    {
     "data": {
      "text/plain": [
       "2265"
      ]
     },
     "execution_count": 69,
     "metadata": {},
     "output_type": "execute_result"
    }
   ],
   "source": [
    "df_spark.filter((col('state')=='Puerto Rico')&(col('price')>100000)).count()"
   ]
  },
  {
   "cell_type": "code",
   "execution_count": 70,
   "metadata": {},
   "outputs": [
    {
     "data": {
      "text/plain": [
       "2265"
      ]
     },
     "execution_count": 70,
     "metadata": {},
     "output_type": "execute_result"
    }
   ],
   "source": [
    "df_spark.filter((df_spark.state == 'Puerto Rico')&(df_spark.price > 100000)).count()"
   ]
  },
  {
   "cell_type": "code",
   "execution_count": null,
   "metadata": {},
   "outputs": [
    {
     "name": "stdout",
     "output_type": "stream",
     "text": [
      "+-----------+--------+--------+---+----+--------+---------+-------------+-----------+--------+----------+--------------+--------+\n",
      "|brokered_by|  status|   price|bed|bath|acre_lot|   street|         city|      state|zip_code|house_size|prev_sold_date| tamanho|\n",
      "+-----------+--------+--------+---+----+--------+---------+-------------+-----------+--------+----------+--------------+--------+\n",
      "|   103378.0|for_sale|105000.0|  3|   2|    0.12|1962661.0|     Adjuntas|Puerto Rico|   00601|     920.0|          NULL| pequena|\n",
      "|    52707.0|for_sale| 80000.0|  4|   2|    0.08|1902874.0|     Adjuntas|Puerto Rico|   00601|    1527.0|          NULL|   media|\n",
      "|   103379.0|for_sale| 67000.0|  2|   1|    0.15|1404990.0|   Juana Diaz|Puerto Rico|   00795|     748.0|          NULL| pequena|\n",
      "|    31239.0|for_sale|145000.0|  4|   2|     0.1|1947675.0|        Ponce|Puerto Rico|   00731|    1800.0|          NULL|   media|\n",
      "|    34632.0|for_sale| 65000.0|  6|   2|    0.05| 331151.0|     Mayaguez|Puerto Rico|   00680|      NULL|          NULL|sem info|\n",
      "|   103378.0|for_sale|179000.0|  4|   3|    0.46|1850806.0|San Sebastian|Puerto Rico|   00612|    2520.0|          NULL|   media|\n",
      "|     1205.0|for_sale| 50000.0|  3|   1|     0.2|1298094.0|       Ciales|Puerto Rico|   00639|    2040.0|          NULL|   media|\n",
      "|    50739.0|for_sale| 71600.0|  3|   2|    0.08|1048466.0|        Ponce|Puerto Rico|   00731|    1050.0|          NULL|   media|\n",
      "|    81909.0|for_sale|100000.0|  2|   1|    0.09| 734904.0|        Ponce|Puerto Rico|   00730|    1092.0|          NULL|   media|\n",
      "|    65672.0|for_sale|300000.0|  5|   3|    7.46|1946226.0|   Las Marias|Puerto Rico|   00670|    5403.0|          NULL|  grande|\n",
      "+-----------+--------+--------+---+----+--------+---------+-------------+-----------+--------+----------+--------------+--------+\n",
      "only showing top 10 rows\n",
      "\n"
     ]
    }
   ],
   "source": [
    "# \"pequena” quando house_size é menor que 1000.\n",
    "# “media” quando house_size é menor que 5000 e maior que 1000. \n",
    "# “grande” quando house_size é maior que 5000.\n",
    "# “sem info” quando house_size é null\n",
    "\n",
    "df_spark_mod = df_spark.withColumn(\"tamanho\", when(df_spark.house_size <= 1000, \"pequena\").when((df_spark.house_size > 1000) & (df_spark.house_size <= 5000), \"media\").when(df_spark.house_size > 5000, \"grande\").otherwise(\"sem info\"))\n",
    "df_spark_mod.show(10)"
   ]
  }
 ],
 "metadata": {
  "kernelspec": {
   "display_name": "Python 3",
   "language": "python",
   "name": "python3"
  },
  "language_info": {
   "codemirror_mode": {
    "name": "ipython",
    "version": 3
   },
   "file_extension": ".py",
   "mimetype": "text/x-python",
   "name": "python",
   "nbconvert_exporter": "python",
   "pygments_lexer": "ipython3",
   "version": "3.13.2"
  }
 },
 "nbformat": 4,
 "nbformat_minor": 2
}
